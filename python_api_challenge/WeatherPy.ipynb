{
 "cells": [
  {
   "cell_type": "markdown",
   "metadata": {},
   "source": [
    "# WeatherPy\n",
    "----\n",
    "\n",
    "#### Note\n",
    "* Instructions have been included for each segment. You do not have to follow them exactly, but they are included to help you think through the steps."
   ]
  },
  {
   "cell_type": "code",
   "execution_count": 132,
   "metadata": {
    "scrolled": true
   },
   "outputs": [],
   "source": [
    "# Dependencies and Setup\n",
    "import matplotlib.pyplot as plt\n",
    "import pandas as pd\n",
    "import numpy as np\n",
    "import requests\n",
    "import time\n",
    "from scipy.stats import linregress\n",
    "\n",
    "# Import API key\n",
    "from api_keys import weather_api_key\n",
    "\n",
    "# Incorporated citipy to determine city based on latitude and longitude\n",
    "from citipy import citipy\n",
    "\n",
    "# Output File (CSV)\n",
    "output_data_file = \"output_data/cities.csv\"\n",
    "\n",
    "# Range of latitudes and longitudes\n",
    "lat_range = (-90, 90)\n",
    "lng_range = (-180, 180)"
   ]
  },
  {
   "cell_type": "markdown",
   "metadata": {},
   "source": [
    "## Generate Cities List"
   ]
  },
  {
   "cell_type": "code",
   "execution_count": 70,
   "metadata": {},
   "outputs": [
    {
     "data": {
      "text/plain": [
       "590"
      ]
     },
     "execution_count": 70,
     "metadata": {},
     "output_type": "execute_result"
    }
   ],
   "source": [
    "# List for holding lat_lngs and cities\n",
    "lat_lngs = []\n",
    "cities = []\n",
    "\n",
    "# Create a set of random lat and lng combinations\n",
    "lats = np.random.uniform(low=-90.000, high=90.000, size=1500)\n",
    "lngs = np.random.uniform(low=-180.000, high=180.000, size=1500)\n",
    "lat_lngs = zip(lats, lngs)\n",
    "\n",
    "# Identify nearest city for each lat, lng combination\n",
    "for lat_lng in lat_lngs:\n",
    "    city = citipy.nearest_city(lat_lng[0], lat_lng[1]).city_name\n",
    "    \n",
    "    # If the city is unique, then add it to a our cities list\n",
    "    if city not in cities:\n",
    "        cities.append(city)\n",
    "\n",
    "# Print the city count to confirm sufficient count\n",
    "len(cities)"
   ]
  },
  {
   "cell_type": "code",
   "execution_count": 52,
   "metadata": {},
   "outputs": [],
   "source": []
  },
  {
   "cell_type": "markdown",
   "metadata": {},
   "source": [
    "### Perform API Calls\n",
    "* Perform a weather check on each city using a series of successive API calls.\n",
    "* Include a print log of each city as it'sbeing processed (with the city number and city name).\n"
   ]
  },
  {
   "cell_type": "code",
   "execution_count": 71,
   "metadata": {},
   "outputs": [
    {
     "name": "stdout",
     "output_type": "stream",
     "text": [
      "PRINT LOG BELOW\n",
      "Processed City Number 1 | Mataura \n",
      "Processed City Number 2 | Bredasdorp \n",
      "Processed City Number 3 | Sorland \n",
      "Processed City Number 4 | Tura \n",
      "Processed City Number 5 | Hobart \n",
      "Processed City Number 6 | Qena \n",
      "Processed City Number 7 | Punta Arenas \n",
      "------------------------------\n",
      "Target City taolanaro Not Found - Skipping!\n",
      "------------------------------\n",
      "Processed City Number 8 | Washington \n",
      "Processed City Number 9 | Erzin \n",
      "Processed City Number 10 | Kodiak \n",
      "Processed City Number 11 | Wilaya de l'Adrar \n",
      "------------------------------\n",
      "Target City dolbeau Not Found - Skipping!\n",
      "------------------------------\n",
      "Processed City Number 12 | Kloulklubed \n",
      "------------------------------\n",
      "Target City attawapiskat Not Found - Skipping!\n",
      "------------------------------\n",
      "Processed City Number 13 | Saldanha \n",
      "Processed City Number 14 | Mackay \n",
      "------------------------------\n",
      "Target City vaitupu Not Found - Skipping!\n",
      "------------------------------\n",
      "Processed City Number 15 | Tuatapere \n",
      "Processed City Number 16 | Ushuaia \n",
      "Processed City Number 17 | Puerto Ayora \n",
      "Processed City Number 18 | Rio Grande \n",
      "Processed City Number 19 | Lebu \n",
      "Processed City Number 20 | Guerrero Negro \n",
      "------------------------------\n",
      "Target City illoqqortoormiut Not Found - Skipping!\n",
      "------------------------------\n",
      "Processed City Number 21 | Castro \n",
      "Processed City Number 22 | Concordia \n",
      "Processed City Number 23 | Bluff \n",
      "Processed City Number 24 | Rio Gallegos \n",
      "Processed City Number 25 | Aasiaat \n",
      "Processed City Number 26 | Bethel \n",
      "Processed City Number 27 | Gornoye Loo \n",
      "Processed City Number 28 | Hithadhoo \n",
      "Processed City Number 29 | Hong Kong \n",
      "Processed City Number 30 | Busselton \n",
      "Processed City Number 31 | Tuktoyaktuk \n",
      "Processed City Number 32 | Kapaa \n",
      "Processed City Number 33 | Saskylakh \n",
      "Processed City Number 34 | Ilulissat \n",
      "Processed City Number 35 | Ribeira Grande \n",
      "Processed City Number 36 | Tianpeng \n",
      "Processed City Number 37 | Umm Lajj \n",
      "Processed City Number 38 | Baykit \n",
      "Processed City Number 39 | Brae \n",
      "Processed City Number 40 | Eqbaliyeh \n",
      "Processed City Number 41 | Kruisfontein \n",
      "Processed City Number 42 | Hilo \n",
      "Processed City Number 43 | Khatanga \n",
      "Processed City Number 44 | Cidreira \n",
      "Processed City Number 45 | Albany County \n",
      "Processed City Number 46 | East London \n",
      "Processed City Number 47 | Vaini \n",
      "Processed City Number 48 | Berlevag \n",
      "Processed City Number 49 | Mahebourg \n",
      "Processed City Number 50 | Cape Town \n",
      "Processed City Number 51 | Katsuura \n",
      "Processed City Number 52 | Namibe \n",
      "Processed City Number 53 | Atuona \n",
      "Processed City Number 54 | Alofi \n",
      "Processed City Number 55 | Chokurdakh \n",
      "Processed City Number 56 | Hermanus \n",
      "Processed City Number 57 | Qaanaaq \n",
      "Processed City Number 58 | Pevek \n",
      "Processed City Number 59 | Sardarshahr \n",
      "Processed City Number 60 | Ulan-Ude \n",
      "Processed City Number 61 | Tasiilaq \n",
      "Processed City Number 62 | Husavik \n",
      "Processed City Number 63 | Portland \n",
      "Processed City Number 64 | Oneonta \n",
      "Processed City Number 65 | Nong Phai \n",
      "Processed City Number 66 | Catuday \n",
      "Processed City Number 67 | Bideford \n",
      "Processed City Number 68 | Norrtalje \n",
      "Processed City Number 69 | Tiksi \n",
      "Processed City Number 70 | Port Elizabeth \n",
      "Processed City Number 71 | Aklavik \n",
      "Processed City Number 72 | Torbay \n",
      "Processed City Number 73 | Avarua \n",
      "Processed City Number 74 | Bayan \n",
      "------------------------------\n",
      "Target City tambaliza Not Found - Skipping!\n",
      "------------------------------\n",
      "Processed City Number 75 | Ballina \n",
      "Processed City Number 76 | Hashtrud \n",
      "Processed City Number 77 | Pisco \n",
      "Processed City Number 78 | Grand Gaube \n",
      "Processed City Number 79 | Srednekolymsk \n",
      "Processed City Number 80 | Faanui \n",
      "Processed City Number 81 | Hambantota \n",
      "Processed City Number 82 | Plettenberg Bay \n",
      "Processed City Number 83 | Walvis Bay \n",
      "Processed City Number 84 | Ancud \n",
      "Processed City Number 85 | Storm Lake \n",
      "Processed City Number 86 | Sur \n",
      "Processed City Number 87 | Pasighat \n",
      "Processed City Number 88 | Omboue \n",
      "Processed City Number 89 | Vestmannaeyjar \n",
      "Processed City Number 90 | Kaitangata \n",
      "------------------------------\n",
      "Target City amderma Not Found - Skipping!\n",
      "------------------------------\n",
      "Processed City Number 91 | Bongandanga \n",
      "Processed City Number 92 | Tabou \n",
      "Processed City Number 93 | Mao \n",
      "Processed City Number 94 | Jardim de Piranhas \n",
      "Processed City Number 95 | Imbituba \n",
      "------------------------------\n",
      "Target City belushya guba Not Found - Skipping!\n",
      "------------------------------\n",
      "Processed City Number 96 | George Town \n",
      "Processed City Number 97 | Fougamou \n",
      "------------------------------\n",
      "Target City masjed-e soleyman Not Found - Skipping!\n",
      "------------------------------\n",
      "Processed City Number 98 | El Alto \n",
      "Processed City Number 99 | Leningradskiy \n",
      "Processed City Number 100 | Venice \n",
      "Processed City Number 101 | Lavrentiya \n",
      "Processed City Number 102 | Marawi \n",
      "Processed City Number 103 | Lewistown \n",
      "Processed City Number 104 | Zaragoza \n",
      "Processed City Number 105 | Rikitea \n",
      "------------------------------\n",
      "Target City lar gerd Not Found - Skipping!\n",
      "------------------------------\n",
      "Processed City Number 106 | La Ronge \n",
      "Processed City Number 107 | Esperance \n",
      "Processed City Number 108 | Erdenet \n",
      "Processed City Number 109 | Yellowknife \n",
      "Processed City Number 110 | Chenghai \n",
      "Processed City Number 111 | Dikson \n",
      "Processed City Number 112 | Kota Belud \n",
      "Processed City Number 113 | Bend \n",
      "Processed City Number 114 | Nikolskoye \n",
      "Processed City Number 115 | San Marcos \n",
      "Processed City Number 116 | Khalabat \n",
      "Processed City Number 117 | Kaseda \n",
      "Processed City Number 118 | Oranjestad \n",
      "Processed City Number 119 | Krasnosel’kup \n",
      "Processed City Number 120 | San Cristobal \n",
      "Processed City Number 121 | Port Alfred \n",
      "Processed City Number 122 | College \n",
      "Processed City Number 123 | Lagoa \n",
      "Processed City Number 124 | Bengkulu \n",
      "Processed City Number 125 | Vardo \n",
      "Processed City Number 126 | Cherskiy \n",
      "------------------------------\n",
      "Target City utiroa Not Found - Skipping!\n",
      "------------------------------\n",
      "Processed City Number 127 | Ciudad Bolivar \n",
      "Processed City Number 128 | Chumikan \n",
      "Processed City Number 129 | Jamestown \n",
      "Processed City Number 130 | Altamira \n",
      "Processed City Number 131 | Barrow \n",
      "Processed City Number 132 | Upernavik \n",
      "------------------------------\n",
      "Target City anar darreh Not Found - Skipping!\n",
      "------------------------------\n",
      "Processed City Number 133 | Makakilo City \n",
      "------------------------------\n",
      "Target City umzimvubu Not Found - Skipping!\n",
      "------------------------------\n",
      "Processed City Number 134 | Hualmay \n",
      "Processed City Number 135 | Kahului \n",
      "Processed City Number 136 | Batemans Bay \n",
      "Processed City Number 137 | Palmer \n",
      "Processed City Number 138 | Valer \n",
      "Processed City Number 139 | Abu Dhabi \n",
      "Processed City Number 140 | Wulan \n",
      "Processed City Number 141 | Scottsbluff \n",
      "Processed City Number 142 | Khani \n",
      "Processed City Number 143 | Vangaindrano \n",
      "Processed City Number 144 | Ipixuna \n",
      "Processed City Number 145 | Muli \n",
      "Processed City Number 146 | Fortuna \n",
      "------------------------------\n",
      "Target City mys shmidta Not Found - Skipping!\n",
      "------------------------------\n",
      "Processed City Number 147 | Magole \n",
      "Processed City Number 148 | Bathsheba \n",
      "Processed City Number 149 | Acajutla \n",
      "Processed City Number 150 | Marsh Harbour \n",
      "Processed City Number 151 | Zhigansk \n",
      "Processed City Number 152 | Clifton \n",
      "Processed City Number 153 | New Norfolk \n",
      "Processed City Number 154 | Lata \n",
      "Processed City Number 155 | Hami \n",
      "Processed City Number 156 | Deputatskiy \n",
      "Processed City Number 157 | Kargasok \n",
      "Processed City Number 158 | Vila Franca do Campo \n",
      "------------------------------\n",
      "Target City marcona Not Found - Skipping!\n",
      "------------------------------\n",
      "Processed City Number 159 | Haines Junction \n",
      "Processed City Number 160 | Banyo \n",
      "Processed City Number 161 | Richards Bay \n",
      "Processed City Number 162 | Turukhansk \n",
      "Processed City Number 163 | Visnes \n",
      "Processed City Number 164 | Manzanillo \n",
      "Processed City Number 165 | San Matias \n",
      "Processed City Number 166 | Chimbote \n",
      "Processed City Number 167 | Altagracia de Orituco \n",
      "Processed City Number 168 | Broome County \n",
      "Processed City Number 169 | Horadiz \n",
      "Processed City Number 170 | Saint George \n",
      "Processed City Number 171 | Vanimo \n",
      "Processed City Number 172 | Dodola \n",
      "Processed City Number 173 | Kapan \n",
      "Processed City Number 174 | Mathbaria \n"
     ]
    },
    {
     "name": "stdout",
     "output_type": "stream",
     "text": [
      "Processed City Number 175 | Mar del Plata \n",
      "Processed City Number 176 | Kyzyl-Suu \n",
      "Processed City Number 177 | Teahupoo \n",
      "Processed City Number 178 | Ponta do Sol \n",
      "Processed City Number 179 | Raudeberg \n",
      "Processed City Number 180 | Hofn \n",
      "Processed City Number 181 | Korla \n",
      "Processed City Number 182 | Cayenne \n",
      "Processed City Number 183 | Shubarkuduk \n",
      "Processed City Number 184 | San Carlos de Bariloche \n",
      "Processed City Number 185 | Provideniya \n",
      "Processed City Number 186 | Panaba \n",
      "Processed City Number 187 | Severo-Kurilsk \n",
      "Processed City Number 188 | Amboasary \n",
      "Processed City Number 189 | Catio \n",
      "Processed City Number 190 | Podkletnoye \n",
      "Processed City Number 191 | Punta Alta \n",
      "Processed City Number 192 | Olavarria \n",
      "Processed City Number 193 | Tailai \n",
      "Processed City Number 194 | Codrington \n",
      "Processed City Number 195 | Seoul \n",
      "------------------------------\n",
      "Target City meyungs Not Found - Skipping!\n",
      "------------------------------\n",
      "Processed City Number 196 | Gambela \n",
      "Processed City Number 197 | Cap Malheureux \n",
      "Processed City Number 198 | San Patricio \n",
      "Processed City Number 199 | Padang \n",
      "Processed City Number 200 | Tezu \n",
      "Processed City Number 201 | Lorengau \n",
      "Processed City Number 202 | Alice Springs \n",
      "Processed City Number 203 | Joaima \n",
      "Processed City Number 204 | Oktyabrskiy \n",
      "Processed City Number 205 | Rocha \n",
      "Processed City Number 206 | Yuanping \n",
      "Processed City Number 207 | Arraial do Cabo \n",
      "Processed City Number 208 | Rawson \n",
      "Processed City Number 209 | Estado do Amapá \n",
      "Processed City Number 210 | Sechura \n",
      "Processed City Number 211 | La Santisima Trinidad \n",
      "Processed City Number 212 | Kavaratti \n",
      "Processed City Number 213 | Lucea \n",
      "Processed City Number 214 | Tsaratanana \n",
      "Processed City Number 215 | Maraa \n",
      "Processed City Number 216 | El Vendrell \n",
      "Processed City Number 217 | Gatesville \n",
      "Processed City Number 218 | Oistins \n",
      "Processed City Number 219 | Saint-Philippe \n",
      "Processed City Number 220 | Saint-Augustin \n",
      "Processed City Number 221 | Coihaique \n",
      "Processed City Number 222 | Bucerias \n",
      "------------------------------\n",
      "Target City barentsburg Not Found - Skipping!\n",
      "------------------------------\n",
      "Processed City Number 223 | Broken Hill \n",
      "Processed City Number 224 | Betioky \n",
      "Processed City Number 225 | Podor \n",
      "Processed City Number 226 | Margate \n",
      "Processed City Number 227 | Kieta \n",
      "Processed City Number 228 | Goma \n",
      "------------------------------\n",
      "Target City lolua Not Found - Skipping!\n",
      "------------------------------\n",
      "Processed City Number 229 | Anadyr \n",
      "Processed City Number 230 | Tarakan \n",
      "Processed City Number 231 | Souillac \n",
      "------------------------------\n",
      "Target City bur gabo Not Found - Skipping!\n",
      "------------------------------\n",
      "Processed City Number 232 | Valparaiso \n",
      "Processed City Number 233 | Ostrovnoy \n",
      "Processed City Number 234 | Belaya Gora \n",
      "Processed City Number 235 | Chhatapur \n",
      "Processed City Number 236 | Lano \n",
      "Processed City Number 237 | Cotonou \n",
      "Processed City Number 238 | El Reno \n",
      "Processed City Number 239 | Klaksvik \n",
      "Processed City Number 240 | Dan Khun Thot \n",
      "Processed City Number 241 | Dunedin \n",
      "Processed City Number 242 | Roald \n",
      "Processed City Number 243 | Humberto de Campos \n",
      "Processed City Number 244 | Bourail \n",
      "Processed City Number 245 | Tarrafal \n",
      "------------------------------\n",
      "Target City afmadu Not Found - Skipping!\n",
      "------------------------------\n",
      "Processed City Number 246 | Great Yarmouth \n",
      "------------------------------\n",
      "Target City carikar Not Found - Skipping!\n",
      "------------------------------\n",
      "Processed City Number 247 | Asau \n",
      "Processed City Number 248 | Pangody \n",
      "Processed City Number 249 | Biak \n",
      "Processed City Number 250 | Mocuba \n",
      "Processed City Number 251 | Pangai \n",
      "Processed City Number 252 | Geraldton \n",
      "Processed City Number 253 | Auki \n",
      "Processed City Number 254 | Angouleme \n",
      "Processed City Number 255 | Megion \n",
      "Processed City Number 256 | Tynda \n",
      "Processed City Number 257 | Sangar \n",
      "Processed City Number 258 | Ishinomaki \n",
      "------------------------------\n",
      "Target City tunduru Not Found - Skipping!\n",
      "------------------------------\n",
      "Processed City Number 259 | Airai \n",
      "Processed City Number 260 | Cabo San Lucas \n",
      "Processed City Number 261 | Impfondo \n",
      "Processed City Number 262 | Ures \n",
      "Processed City Number 263 | Victoria Point \n",
      "Processed City Number 264 | Petropavlovsk-Kamchatskiy \n",
      "Processed City Number 265 | Buala \n",
      "Processed City Number 266 | Maniitsoq \n",
      "Processed City Number 267 | Naustdal \n",
      "Processed City Number 268 | Lagos de Moreno \n",
      "Processed City Number 269 | Grasten \n",
      "------------------------------\n",
      "Target City aflu Not Found - Skipping!\n",
      "------------------------------\n",
      "Processed City Number 270 | Norman Wells \n",
      "------------------------------\n",
      "Target City khormuj Not Found - Skipping!\n",
      "------------------------------\n",
      "Processed City Number 271 | Christchurch \n",
      "Processed City Number 272 | Kavieng \n",
      "Processed City Number 273 | Nhulunbuy \n",
      "Processed City Number 274 | Yanam \n",
      "Processed City Number 275 | Sulangan \n",
      "Processed City Number 276 | Aitape \n",
      "Processed City Number 277 | Bubaque \n",
      "Processed City Number 278 | Longyearbyen \n",
      "Processed City Number 279 | Ahipara \n",
      "Processed City Number 280 | Chuy \n",
      "Processed City Number 281 | Cumpas \n",
      "Processed City Number 282 | Keti Bandar \n",
      "Processed City Number 283 | Aksu \n",
      "------------------------------\n",
      "Target City sentyabrskiy Not Found - Skipping!\n",
      "------------------------------\n",
      "Processed City Number 284 | Thabazimbi \n",
      "------------------------------\n",
      "Target City tsihombe Not Found - Skipping!\n",
      "------------------------------\n",
      "------------------------------\n",
      "Target City satitoa Not Found - Skipping!\n",
      "------------------------------\n",
      "Processed City Number 285 | Natchitoches Parish \n",
      "Processed City Number 286 | Octeville \n",
      "Processed City Number 287 | Molina \n",
      "Processed City Number 288 | Carnarvon \n",
      "------------------------------\n",
      "Target City sidi qasim Not Found - Skipping!\n",
      "------------------------------\n",
      "Processed City Number 289 | Sampit \n",
      "Processed City Number 290 | Nyurba \n",
      "Processed City Number 291 | Nemuro \n",
      "Processed City Number 292 | Jurmala \n",
      "------------------------------\n",
      "Target City alotau Not Found - Skipping!\n",
      "------------------------------\n",
      "Processed City Number 293 | Zhob \n",
      "Processed City Number 294 | Nyagan \n",
      "Processed City Number 295 | Belmonte \n",
      "Processed City Number 296 | Qiryat Gat \n",
      "Processed City Number 297 | Bundaberg \n",
      "Processed City Number 298 | Mogadishu \n",
      "Processed City Number 299 | Mombetsu \n",
      "Processed City Number 300 | Taoudenni \n",
      "Processed City Number 301 | Teya \n",
      "Processed City Number 302 | Estado de Guerrero \n",
      "Processed City Number 303 | Longyan \n",
      "Processed City Number 304 | Jumla \n",
      "Processed City Number 305 | Pokhvistnevo \n",
      "Processed City Number 306 | Birin \n",
      "Processed City Number 307 | Ilave \n",
      "Processed City Number 308 | Thompson \n",
      "Processed City Number 309 | Havre-Saint-Pierre \n",
      "Processed City Number 310 | Quy Nhon \n",
      "Processed City Number 311 | Grindavik \n",
      "Processed City Number 312 | Raga \n",
      "Processed City Number 313 | Oranjemund \n",
      "Processed City Number 314 | Villa Frontera \n",
      "Processed City Number 315 | Voh \n",
      "Processed City Number 316 | Kurumkan \n",
      "Processed City Number 317 | Ishigaki \n",
      "Processed City Number 318 | Quatre Cocos \n",
      "Processed City Number 319 | Aranos \n",
      "Processed City Number 320 | Coquimbo \n",
      "Processed City Number 321 | Taunggyi \n",
      "Processed City Number 322 | Tonj \n",
      "Processed City Number 323 | Camacupa \n",
      "Processed City Number 324 | Karratha \n",
      "Processed City Number 325 | Olinda \n",
      "Processed City Number 326 | Lac du Bonnet \n",
      "Processed City Number 327 | Santhia \n",
      "Processed City Number 328 | Palora \n",
      "Processed City Number 329 | Nang Rong \n",
      "Processed City Number 330 | Wilāyat-e Uruzgān \n",
      "Processed City Number 331 | Selikhino \n",
      "Processed City Number 332 | Chifeng \n",
      "Processed City Number 333 | Ust-Nera \n",
      "Processed City Number 334 | Itaguai \n",
      "Processed City Number 335 | Vao \n",
      "Processed City Number 336 | Augusto Correa \n",
      "Processed City Number 337 | Shimoda \n",
      "Processed City Number 338 | Susehri \n",
      "Processed City Number 339 | Havoysund \n",
      "Processed City Number 340 | Parati \n",
      "Processed City Number 341 | Quelimane \n",
      "Processed City Number 342 | Coahuayana \n",
      "Processed City Number 343 | Cervo \n",
      "Processed City Number 344 | Bowen \n",
      "Processed City Number 345 | Orsha \n",
      "Processed City Number 346 | Acapulco de Juarez \n",
      "Processed City Number 347 | Kokstad \n",
      "Processed City Number 348 | Anloga \n",
      "Processed City Number 349 | Birjand \n"
     ]
    },
    {
     "name": "stdout",
     "output_type": "stream",
     "text": [
      "Processed City Number 350 | Kedrovyy \n",
      "Processed City Number 351 | Manavalakurichi \n",
      "Processed City Number 352 | Loreto \n",
      "Processed City Number 353 | Butaritari \n",
      "Processed City Number 354 | Laishevo \n",
      "Processed City Number 355 | Risaralda \n",
      "Processed City Number 356 | Zemio \n",
      "Processed City Number 357 | Sioux Lookout \n",
      "Processed City Number 358 | Port Blair \n",
      "Processed City Number 359 | Kununurra \n",
      "Processed City Number 360 | Yerbogachen \n",
      "------------------------------\n",
      "Target City saleaula Not Found - Skipping!\n",
      "------------------------------\n",
      "------------------------------\n",
      "Target City nizhneyansk Not Found - Skipping!\n",
      "------------------------------\n",
      "Processed City Number 361 | Vilhena \n",
      "Processed City Number 362 | Iacu \n",
      "Processed City Number 363 | Curvelo \n",
      "Processed City Number 364 | Basar \n",
      "Processed City Number 365 | Urunchi \n",
      "Processed City Number 366 | Skjervoy \n",
      "Processed City Number 367 | Kamenka \n",
      "Processed City Number 368 | Oktyabrskoye \n",
      "Processed City Number 369 | Mount Isa \n",
      "Processed City Number 370 | Zyryanka \n",
      "Processed City Number 371 | Ahuimanu \n",
      "Processed City Number 372 | Lokosovo \n",
      "Processed City Number 373 | Hasaki \n",
      "Processed City Number 374 | Sao Filipe \n",
      "Processed City Number 375 | Wairoa \n",
      "Processed City Number 376 | Nuuk \n",
      "Processed City Number 377 | Clonakilty \n",
      "Processed City Number 378 | Verkhnetulomskiy \n",
      "Processed City Number 379 | Nevers \n",
      "Processed City Number 380 | Raver \n",
      "Processed City Number 381 | Pahrump \n",
      "Processed City Number 382 | Banda Aceh \n",
      "Processed City Number 383 | Nanortalik \n",
      "Processed City Number 384 | Neyshabur \n",
      "Processed City Number 385 | Touros \n",
      "Processed City Number 386 | Mazarron \n",
      "Processed City Number 387 | Kolaras \n",
      "Processed City Number 388 | Praia da Vitoria \n",
      "Processed City Number 389 | Sobolevo \n",
      "Processed City Number 390 | Naze \n",
      "Processed City Number 391 | Arlit \n",
      "Processed City Number 392 | Lompoc \n",
      "Processed City Number 393 | Poum \n",
      "------------------------------\n",
      "Target City nguiu Not Found - Skipping!\n",
      "------------------------------\n",
      "Processed City Number 394 | Ilo \n",
      "Processed City Number 395 | Yunyang \n",
      "Processed City Number 396 | Berlin \n",
      "Processed City Number 397 | Crossville \n",
      "Processed City Number 398 | Komsomolskiy \n",
      "Processed City Number 399 | Atar \n",
      "Processed City Number 400 | Yulara \n",
      "Processed City Number 401 | Trelew \n",
      "Processed City Number 402 | Caravelas \n",
      "Processed City Number 403 | Bobrovka \n",
      "Processed City Number 404 | Dolinsk \n",
      "Processed City Number 405 | Kudahuvadhoo \n",
      "Processed City Number 406 | Bilibino \n",
      "Processed City Number 407 | Eureka \n",
      "Processed City Number 408 | Bandarbeyla \n",
      "Processed City Number 409 | Praia \n",
      "Processed City Number 410 | Orikum \n",
      "Processed City Number 411 | Coos Bay \n",
      "Processed City Number 412 | Mayor Pablo Lagerenza \n",
      "Processed City Number 413 | Ketchikan \n",
      "------------------------------\n",
      "Target City maloshuyka Not Found - Skipping!\n",
      "------------------------------\n",
      "Processed City Number 414 | Dondukovskaya \n",
      "Processed City Number 415 | Crotone \n",
      "Processed City Number 416 | Aleksandrov Gay \n",
      "Processed City Number 417 | Boffa \n",
      "Processed City Number 418 | Matamoros \n",
      "Processed City Number 419 | Wattegama \n",
      "------------------------------\n",
      "Target City malwan Not Found - Skipping!\n",
      "------------------------------\n",
      "------------------------------\n",
      "Target City chagda Not Found - Skipping!\n",
      "------------------------------\n",
      "Processed City Number 420 | Saint-Pierre \n",
      "Processed City Number 421 | Port Keats \n",
      "Processed City Number 422 | Sawtell \n",
      "------------------------------\n",
      "Target City samusu Not Found - Skipping!\n",
      "------------------------------\n",
      "Processed City Number 423 | Noumea \n",
      "Processed City Number 424 | Pemangkat \n",
      "------------------------------\n",
      "Target City ishlei Not Found - Skipping!\n",
      "------------------------------\n",
      "Processed City Number 425 | Sao Felix do Xingu \n",
      "Processed City Number 426 | Ossora \n",
      "Processed City Number 427 | Manokwari \n",
      "------------------------------\n",
      "Target City hendijan Not Found - Skipping!\n",
      "------------------------------\n",
      "------------------------------\n",
      "Target City bossembele Not Found - Skipping!\n",
      "------------------------------\n",
      "Processed City Number 428 | Athabasca \n",
      "Processed City Number 429 | Biskamzha \n",
      "Processed City Number 430 | Colinas \n",
      "Processed City Number 431 | Kotka \n",
      "Processed City Number 432 | Elko County \n",
      "Processed City Number 433 | Te Anau \n",
      "Processed City Number 434 | Labuhan \n",
      "Processed City Number 435 | Reconquista \n",
      "Processed City Number 436 | Wadi \n",
      "Processed City Number 437 | Sitka \n",
      "Processed City Number 438 | Tecoanapa \n",
      "Processed City Number 439 | Iqaluit \n",
      "Processed City Number 440 | Yar-Sale \n",
      "Processed City Number 441 | Cartagena \n",
      "Processed City Number 442 | Hamilton County \n",
      "Processed City Number 443 | Desaguadero \n",
      "Processed City Number 444 | Sajanan \n",
      "Processed City Number 445 | Bondo \n",
      "Processed City Number 446 | Rengasdengklok \n",
      "Processed City Number 447 | Inuvik \n",
      "Processed City Number 448 | Show Low \n",
      "Processed City Number 449 | Inhambane \n",
      "Processed City Number 450 | Banjar \n",
      "Processed City Number 451 | Lander \n",
      "Processed City Number 452 | Mao \n",
      "Processed City Number 453 | Mount Gambier \n",
      "Processed City Number 454 | Nantucket \n",
      "Processed City Number 455 | Abu Kamal \n",
      "Processed City Number 456 | Antalaha \n",
      "Processed City Number 457 | Fort Nelson \n",
      "Processed City Number 458 | Koidu \n",
      "Processed City Number 459 | Kyzyl \n",
      "Processed City Number 460 | Rio Cuarto \n",
      "------------------------------\n",
      "Target City tanshui Not Found - Skipping!\n",
      "------------------------------\n",
      "------------------------------\n",
      "Target City gurgan Not Found - Skipping!\n",
      "------------------------------\n",
      "Processed City Number 461 | Lovozero \n",
      "Processed City Number 462 | Tongshan \n",
      "Processed City Number 463 | Abnub \n",
      "Processed City Number 464 | Licheng \n",
      "Processed City Number 465 | Santa Helena \n",
      "Processed City Number 466 | Bud \n",
      "Processed City Number 467 | Nyimba \n",
      "Processed City Number 468 | Marrakesh \n",
      "Processed City Number 469 | Baruun-Urt \n",
      "Processed City Number 470 | Belyy Yar \n",
      "Processed City Number 471 | Port Lincoln \n",
      "Processed City Number 472 | Bambanglipuro \n",
      "Processed City Number 473 | Mugeni \n",
      "Processed City Number 474 | Buraydah \n",
      "Processed City Number 475 | Montes Altos \n",
      "Processed City Number 476 | Mala Vyska \n",
      "Processed City Number 477 | Todos Santos \n",
      "Processed City Number 478 | Cua \n",
      "Processed City Number 479 | Narsaq \n",
      "Processed City Number 480 | Shirokiy \n",
      "Processed City Number 481 | Kasamwa \n",
      "Processed City Number 482 | Farafangana \n",
      "------------------------------\n",
      "Target City tumannyy Not Found - Skipping!\n",
      "------------------------------\n",
      "Processed City Number 483 | Meybod \n",
      "Processed City Number 484 | Namatanai \n",
      "Processed City Number 485 | Inverell \n",
      "Processed City Number 486 | Cardston \n",
      "Processed City Number 487 | Yakeshi \n",
      "Processed City Number 488 | Kumasi \n",
      "Processed City Number 489 | Pangnirtung \n",
      "Processed City Number 490 | Tallahassee \n",
      "Processed City Number 491 | Kitimat \n",
      "Processed City Number 492 | Orebro \n",
      "Processed City Number 493 | Kingsport \n",
      "Processed City Number 494 | San Andres \n",
      "Processed City Number 495 | Bonthe \n",
      "Processed City Number 496 | Prince Rupert \n",
      "Processed City Number 497 | Takhtamygda \n",
      "Processed City Number 498 | Bairiki Village \n",
      "Processed City Number 499 | Muisne \n",
      "Processed City Number 500 | Pervomayskoye \n",
      "Processed City Number 501 | Tagusao \n",
      "Processed City Number 502 | San Fernando \n",
      "Processed City Number 503 | Clyde River \n",
      "Processed City Number 504 | Cairns \n",
      "Processed City Number 505 | Ust-Ilimsk \n",
      "Processed City Number 506 | Fangshan \n",
      "Processed City Number 507 | Honiara \n",
      "Processed City Number 508 | Luwuk \n",
      "Processed City Number 509 | Houma \n",
      "Processed City Number 510 | Yasnyy \n",
      "------------------------------\n",
      "Target City asayita Not Found - Skipping!\n",
      "------------------------------\n",
      "Processed City Number 511 | Valkeala \n",
      "Processed City Number 512 | Finschhafen \n",
      "Processed City Number 513 | Gobabis \n",
      "Processed City Number 514 | Kousseri \n",
      "Processed City Number 515 | Bokoro \n",
      "Processed City Number 516 | Flinders \n",
      "Processed City Number 517 | Antofagasta \n",
      "Processed City Number 518 | Salinas \n",
      "Processed City Number 519 | Aripuana \n",
      "Processed City Number 520 | Isla Vista \n",
      "Processed City Number 521 | Ondjiva \n",
      "Processed City Number 522 | Tommot \n",
      "Processed City Number 523 | Hoi An \n",
      "Processed City Number 524 | Methoni \n",
      "Processed City Number 525 | Jijiga \n",
      "Processed City Number 526 | Camacha \n"
     ]
    },
    {
     "name": "stdout",
     "output_type": "stream",
     "text": [
      "Processed City Number 527 | Waidhofen \n",
      "Processed City Number 528 | Ginir \n",
      "Processed City Number 529 | Brenham \n",
      "Processed City Number 530 | Lakes Entrance \n",
      "Processed City Number 531 | Toropets \n",
      "Processed City Number 532 | Flin Flon \n",
      "Processed City Number 533 | Am Timan \n",
      "Processed City Number 534 | Madang \n",
      "Processed City Number 535 | Springfield \n",
      "Processed City Number 536 | Cururupu \n",
      "Processed City Number 537 | Plock \n",
      "Processed City Number 538 | Estelle \n",
      "Processed City Number 539 | Vila Velha \n",
      "------------------------------\n",
      "Target City toliary Not Found - Skipping!\n",
      "------------------------------\n",
      "Processed City Number 540 | Abha \n",
      "Processed City Number 541 | Changji \n",
      "Processed City Number 542 | Mandiana \n",
      "Processed City Number 543 | Laguna \n",
      "Processed City Number 544 | Olds \n",
      "Processed City Number 545 | Izumo \n",
      "Processed City Number 546 | Lae \n"
     ]
    }
   ],
   "source": [
    "print(f\"PRINT LOG BELOW\")\n",
    "number = 0\n",
    "for city in cities:\n",
    "    target_city = city\n",
    "    base_url = ('http://api.openweathermap.org/data/2.5/find?q={0}&units=imperial&appid={1}').format(target_city,weather_api_key)\n",
    "    city_weather_json = requests.get(base_url).json()\n",
    "    \n",
    "    if city_weather_json['count'] == 0:\n",
    "        print(f\"------------------------------\")\n",
    "        print(f\"Target City {target_city} Not Found - Skipping!\")\n",
    "        print(f\"------------------------------\")\n",
    "    else: \n",
    "        number = number + 1\n",
    "        name = city_weather_json['list'][0]['name']\n",
    "        print(f'Processed City Number {number} | {name} ')\n",
    "    "
   ]
  },
  {
   "cell_type": "code",
   "execution_count": 81,
   "metadata": {},
   "outputs": [
    {
     "data": {
      "text/plain": [
       "70"
      ]
     },
     "execution_count": 81,
     "metadata": {},
     "output_type": "execute_result"
    }
   ],
   "source": [
    "city_weather_json['list'][0]['main']['temp_max']"
   ]
  },
  {
   "cell_type": "markdown",
   "metadata": {},
   "source": [
    "### Convert Raw Data to DataFrame\n",
    "* Export the city data into a .csv.\n",
    "* Display the DataFrame"
   ]
  },
  {
   "cell_type": "code",
   "execution_count": 84,
   "metadata": {},
   "outputs": [
    {
     "data": {
      "text/html": [
       "<div>\n",
       "<style scoped>\n",
       "    .dataframe tbody tr th:only-of-type {\n",
       "        vertical-align: middle;\n",
       "    }\n",
       "\n",
       "    .dataframe tbody tr th {\n",
       "        vertical-align: top;\n",
       "    }\n",
       "\n",
       "    .dataframe thead th {\n",
       "        text-align: right;\n",
       "    }\n",
       "</style>\n",
       "<table border=\"1\" class=\"dataframe\">\n",
       "  <thead>\n",
       "    <tr style=\"text-align: right;\">\n",
       "      <th></th>\n",
       "      <th>City</th>\n",
       "      <th>Cloudiness</th>\n",
       "      <th>Country</th>\n",
       "      <th>Date</th>\n",
       "      <th>Humidity</th>\n",
       "      <th>Lat</th>\n",
       "      <th>Lng</th>\n",
       "      <th>Max Temp</th>\n",
       "      <th>Wind Speed</th>\n",
       "    </tr>\n",
       "  </thead>\n",
       "  <tbody>\n",
       "    <tr>\n",
       "      <td>0</td>\n",
       "      <td>Mataura</td>\n",
       "      <td>100</td>\n",
       "      <td>NZ</td>\n",
       "      <td>1580548551</td>\n",
       "      <td>63</td>\n",
       "      <td>-46.1927</td>\n",
       "      <td>168.8643</td>\n",
       "      <td>71.01</td>\n",
       "      <td>11.99</td>\n",
       "    </tr>\n",
       "    <tr>\n",
       "      <td>1</td>\n",
       "      <td>Bredasdorp</td>\n",
       "      <td>90</td>\n",
       "      <td>ZA</td>\n",
       "      <td>1580547935</td>\n",
       "      <td>73</td>\n",
       "      <td>-34.5322</td>\n",
       "      <td>20.0403</td>\n",
       "      <td>75.99</td>\n",
       "      <td>5.99</td>\n",
       "    </tr>\n",
       "    <tr>\n",
       "      <td>2</td>\n",
       "      <td>Sorland</td>\n",
       "      <td>75</td>\n",
       "      <td>NO</td>\n",
       "      <td>1580548435</td>\n",
       "      <td>80</td>\n",
       "      <td>67.6670</td>\n",
       "      <td>12.6934</td>\n",
       "      <td>39.20</td>\n",
       "      <td>24.16</td>\n",
       "    </tr>\n",
       "    <tr>\n",
       "      <td>3</td>\n",
       "      <td>Tura</td>\n",
       "      <td>0</td>\n",
       "      <td>IN</td>\n",
       "      <td>1580548155</td>\n",
       "      <td>37</td>\n",
       "      <td>25.5198</td>\n",
       "      <td>90.2201</td>\n",
       "      <td>75.24</td>\n",
       "      <td>6.80</td>\n",
       "    </tr>\n",
       "    <tr>\n",
       "      <td>4</td>\n",
       "      <td>Hobart</td>\n",
       "      <td>75</td>\n",
       "      <td>AU</td>\n",
       "      <td>1580548144</td>\n",
       "      <td>93</td>\n",
       "      <td>-42.8794</td>\n",
       "      <td>147.3294</td>\n",
       "      <td>64.99</td>\n",
       "      <td>8.05</td>\n",
       "    </tr>\n",
       "    <tr>\n",
       "      <td>...</td>\n",
       "      <td>...</td>\n",
       "      <td>...</td>\n",
       "      <td>...</td>\n",
       "      <td>...</td>\n",
       "      <td>...</td>\n",
       "      <td>...</td>\n",
       "      <td>...</td>\n",
       "      <td>...</td>\n",
       "      <td>...</td>\n",
       "    </tr>\n",
       "    <tr>\n",
       "      <td>541</td>\n",
       "      <td>Mandiana</td>\n",
       "      <td>53</td>\n",
       "      <td>GN</td>\n",
       "      <td>1580547978</td>\n",
       "      <td>13</td>\n",
       "      <td>10.6333</td>\n",
       "      <td>-8.6833</td>\n",
       "      <td>77.13</td>\n",
       "      <td>5.32</td>\n",
       "    </tr>\n",
       "    <tr>\n",
       "      <td>542</td>\n",
       "      <td>Laguna</td>\n",
       "      <td>90</td>\n",
       "      <td>US</td>\n",
       "      <td>1580548534</td>\n",
       "      <td>93</td>\n",
       "      <td>38.4210</td>\n",
       "      <td>-121.4238</td>\n",
       "      <td>52.00</td>\n",
       "      <td>2.71</td>\n",
       "    </tr>\n",
       "    <tr>\n",
       "      <td>543</td>\n",
       "      <td>Olds</td>\n",
       "      <td>40</td>\n",
       "      <td>CA</td>\n",
       "      <td>1580548551</td>\n",
       "      <td>69</td>\n",
       "      <td>51.7834</td>\n",
       "      <td>-114.1020</td>\n",
       "      <td>48.00</td>\n",
       "      <td>11.41</td>\n",
       "    </tr>\n",
       "    <tr>\n",
       "      <td>544</td>\n",
       "      <td>Izumo</td>\n",
       "      <td>40</td>\n",
       "      <td>JP</td>\n",
       "      <td>1580548166</td>\n",
       "      <td>65</td>\n",
       "      <td>35.3667</td>\n",
       "      <td>132.7667</td>\n",
       "      <td>46.40</td>\n",
       "      <td>1.12</td>\n",
       "    </tr>\n",
       "    <tr>\n",
       "      <td>545</td>\n",
       "      <td>Lae</td>\n",
       "      <td>100</td>\n",
       "      <td>PG</td>\n",
       "      <td>1580548167</td>\n",
       "      <td>89</td>\n",
       "      <td>-6.7221</td>\n",
       "      <td>146.9847</td>\n",
       "      <td>66.92</td>\n",
       "      <td>6.49</td>\n",
       "    </tr>\n",
       "  </tbody>\n",
       "</table>\n",
       "<p>546 rows × 9 columns</p>\n",
       "</div>"
      ],
      "text/plain": [
       "           City Cloudiness Country        Date Humidity      Lat       Lng  \\\n",
       "0       Mataura        100      NZ  1580548551       63 -46.1927  168.8643   \n",
       "1    Bredasdorp         90      ZA  1580547935       73 -34.5322   20.0403   \n",
       "2       Sorland         75      NO  1580548435       80  67.6670   12.6934   \n",
       "3          Tura          0      IN  1580548155       37  25.5198   90.2201   \n",
       "4        Hobart         75      AU  1580548144       93 -42.8794  147.3294   \n",
       "..          ...        ...     ...         ...      ...      ...       ...   \n",
       "541    Mandiana         53      GN  1580547978       13  10.6333   -8.6833   \n",
       "542      Laguna         90      US  1580548534       93  38.4210 -121.4238   \n",
       "543        Olds         40      CA  1580548551       69  51.7834 -114.1020   \n",
       "544       Izumo         40      JP  1580548166       65  35.3667  132.7667   \n",
       "545         Lae        100      PG  1580548167       89  -6.7221  146.9847   \n",
       "\n",
       "     Max Temp  Wind Speed  \n",
       "0       71.01       11.99  \n",
       "1       75.99        5.99  \n",
       "2       39.20       24.16  \n",
       "3       75.24        6.80  \n",
       "4       64.99        8.05  \n",
       "..        ...         ...  \n",
       "541     77.13        5.32  \n",
       "542     52.00        2.71  \n",
       "543     48.00       11.41  \n",
       "544     46.40        1.12  \n",
       "545     66.92        6.49  \n",
       "\n",
       "[546 rows x 9 columns]"
      ]
     },
     "execution_count": 84,
     "metadata": {},
     "output_type": "execute_result"
    }
   ],
   "source": [
    "cities_df = pd.DataFrame(columns={'City','Cloudiness','Country','Date',\n",
    "                                  'Humidity','Lat','Lng','Max Temp','Wind Speed'})\n",
    "\n",
    "for city in cities:\n",
    "    target_city = city\n",
    "    base_url = ('http://api.openweathermap.org/data/2.5/find?q={0}&units=imperial&appid={1}').format(target_city,weather_api_key)\n",
    "    city_weather_json = requests.get(base_url).json()\n",
    "    \n",
    "    if city_weather_json['count'] > 0:\n",
    "        city_name = city_weather_json['list'][0]['name']\n",
    "        cloudiness = city_weather_json['list'][0]['clouds']['all']\n",
    "        country = city_weather_json['list'][0]['sys']['country']\n",
    "        date = city_weather_json['list'][0]['dt']\n",
    "        humidity = city_weather_json['list'][0]['main']['humidity']\n",
    "        lat = city_weather_json['list'][0]['coord']['lat']\n",
    "        lng = city_weather_json['list'][0]['coord']['lon']\n",
    "        max_temp = city_weather_json['list'][0]['main']['temp_max']\n",
    "        wind_speed = city_weather_json['list'][0]['wind']['speed']\n",
    "        \n",
    "        data = [{'City':city_name,'Cloudiness':cloudiness,'Country':country,'Date':date,'Humidity':humidity,\n",
    "                'Lat':lat,'Lng':lng,'Max Temp':max_temp,'Wind Speed':wind_speed}]\n",
    "        \n",
    "        cities_df = cities_df.append(data,ignore_index=True,sort=True)\n",
    "cities_df"
   ]
  },
  {
   "cell_type": "code",
   "execution_count": 87,
   "metadata": {},
   "outputs": [],
   "source": [
    "#export cities data to csv\n",
    "export_csv = cities_df.to_csv('cities_df.csv')"
   ]
  },
  {
   "cell_type": "markdown",
   "metadata": {},
   "source": [
    "### Plotting the Data\n",
    "* Use proper labeling of the plots using plot titles (including date of analysis) and axes labels.\n",
    "* Save the plotted figures as .pngs."
   ]
  },
  {
   "cell_type": "markdown",
   "metadata": {},
   "source": [
    "#### Latitude vs. Temperature Plot"
   ]
  },
  {
   "cell_type": "code",
   "execution_count": 111,
   "metadata": {
    "scrolled": true
   },
   "outputs": [
    {
     "data": {
      "image/png": "[encoded data removed]",
      "text/plain": [
       "<Figure size 432x288 with 1 Axes>"
      ]
     },
     "metadata": {
      "needs_background": "light"
     },
     "output_type": "display_data"
    }
   ],
   "source": [
    "maxtemp = plt.figure()\n",
    "plt.scatter(y = cities_df['Max Temp'], x = cities_df['Lat'])\n",
    "plt.ylabel('Max Temperature (F)')\n",
    "plt.xlabel('Latitude')\n",
    "plt.title('City Latitude vs. Max Temperature (1/31/2020)')\n",
    "plt.grid()\n",
    "\n",
    "#Save as PNG\n",
    "maxtemp.savefig(\"Lat_MaxTemp.png\",bbox_inches = 'tight',dpi=600)\n",
    "\n",
    "#Explanation\n",
    "# The scatterplot graphs an a strong relationship between latitude and max temperature. A high level \n",
    "# interpretation of the data is the southern hemisphere (<0 latitude) is clustered around a higher max \n",
    "# temperature while the northern hemisphere (>0 latitude) has a lower max temp."
   ]
  },
  {
   "cell_type": "markdown",
   "metadata": {},
   "source": [
    "#### Latitude vs. Humidity Plot"
   ]
  },
  {
   "cell_type": "code",
   "execution_count": 112,
   "metadata": {},
   "outputs": [
    {
     "data": {
      "image/png": "[encoded data removed]",
      "text/plain": [
       "<Figure size 432x288 with 1 Axes>"
      ]
     },
     "metadata": {
      "needs_background": "light"
     },
     "output_type": "display_data"
    }
   ],
   "source": [
    "humidity = plt.figure()\n",
    "plt.scatter(y = cities_df['Humidity'], x = cities_df['Lat'])\n",
    "plt.ylabel('Humidity (%)')\n",
    "plt.xlabel('Latitude')\n",
    "plt.title('City Latitude vs. Humidity (1/31/2020)')\n",
    "plt.grid()\n",
    "\n",
    "#Save as PNG\n",
    "humidity.savefig(\"Lat_Humidity.png\",bbox_inches = 'tight',dpi=600)\n",
    "\n",
    "# Explanation\n",
    "# The scatterplot does not show a clear relationship between latitude and humidity %. "
   ]
  },
  {
   "cell_type": "markdown",
   "metadata": {},
   "source": [
    "#### Latitude vs. Cloudiness Plot"
   ]
  },
  {
   "cell_type": "code",
   "execution_count": 113,
   "metadata": {},
   "outputs": [
    {
     "data": {
      "image/png": "[encoded data removed]",
      "text/plain": [
       "<Figure size 432x288 with 1 Axes>"
      ]
     },
     "metadata": {
      "needs_background": "light"
     },
     "output_type": "display_data"
    }
   ],
   "source": [
    "cloudiness = plt.figure()\n",
    "plt.scatter(y = cities_df['Cloudiness'], x = cities_df['Lat'])\n",
    "plt.ylabel('Cloudiness (%)')\n",
    "plt.xlabel('Latitude')\n",
    "plt.title('City Latitude vs. Cloudiness (1/31/2020)')\n",
    "plt.grid()\n",
    "\n",
    "#Save as PNG\n",
    "cloudiness.savefig(\"Lat_Cloudiness.png\",bbox_inches = 'tight',dpi=600)\n",
    "\n",
    "#Explanation\n",
    "# The scatterplot does not show a clear relationship between latitude and cloudiness.\n",
    "# There are visible clusters around the 0 and 100% humidity levels on both the northern and southern \n",
    "# hemisphere."
   ]
  },
  {
   "cell_type": "markdown",
   "metadata": {},
   "source": [
    "#### Latitude vs. Wind Speed Plot"
   ]
  },
  {
   "cell_type": "code",
   "execution_count": 114,
   "metadata": {},
   "outputs": [
    {
     "data": {
      "image/png": "[encoded data removed]",
      "text/plain": [
       "<Figure size 432x288 with 1 Axes>"
      ]
     },
     "metadata": {
      "needs_background": "light"
     },
     "output_type": "display_data"
    }
   ],
   "source": [
    "wind_speed = plt.figure()\n",
    "plt.scatter(y = cities_df['Wind Speed'], x = cities_df['Lat'])\n",
    "plt.ylabel('Wind Speed (mph)')\n",
    "plt.xlabel('Latitude')\n",
    "plt.title('City Latitude vs. Wind Speed (1/31/2020)')\n",
    "plt.grid()\n",
    "\n",
    "#Save as PNG\n",
    "wind_speed.savefig(\"Lat_WindSpeed.png\",bbox_inches = 'tight',dpi=600)\n",
    "\n",
    "#Explanation\n",
    "# There is a visible clustering around 0 to 30mph windspeed for both the northern and southern \n",
    "# hemispheres. There is not a clear directional correlation."
   ]
  },
  {
   "cell_type": "markdown",
   "metadata": {},
   "source": [
    "## Linear Regression"
   ]
  },
  {
   "cell_type": "code",
   "execution_count": 252,
   "metadata": {},
   "outputs": [],
   "source": [
    "# OPTIONAL: Create a function to create Linear Regression plots\n",
    "def linregression(df, x_value, y_value, x_label, y_label):\n",
    "    \n",
    "    x = df[x_value]\n",
    "    y = df[y_value]\n",
    "    \n",
    "    slope, intercept, r_value, p_value, std_err = linregress(x, y)\n",
    "    regress_values = slope*x + intercept\n",
    "    plt.plot(x, regress_values,\"r-\")\n",
    "    \n",
    "    line_eq = \"y = \" + str(round(slope,2)) + \"x + \" + str(round(intercept,2))\n",
    "    \n",
    "    if df['Lat'][0] > 0: \n",
    "        plt.annotate(line_eq,xy=(0,0),fontsize=15,color=\"red\")\n",
    "    else:\n",
    "        plt.annotate(line_eq,xy=(-50,30),fontsize=15,color=\"red\")\n",
    "    plt.scatter(x,y)\n",
    "    plt.ylabel(y_label)\n",
    "    plt.xlabel(x_label)\n",
    "    \n",
    "    print(f\"The r-squared is: {r_value**2}\")\n",
    "    plt.show()"
   ]
  },
  {
   "cell_type": "code",
   "execution_count": 220,
   "metadata": {},
   "outputs": [
    {
     "name": "stderr",
     "output_type": "stream",
     "text": [
      "/opt/anaconda3/lib/python3.7/site-packages/ipykernel_launcher.py:3: SettingWithCopyWarning: \n",
      "A value is trying to be set on a copy of a slice from a DataFrame.\n",
      "Try using .loc[row_indexer,col_indexer] = value instead\n",
      "\n",
      "See the caveats in the documentation: http://pandas.pydata.org/pandas-docs/stable/user_guide/indexing.html#returning-a-view-versus-a-copy\n",
      "  This is separate from the ipykernel package so we can avoid doing imports until\n",
      "/opt/anaconda3/lib/python3.7/site-packages/ipykernel_launcher.py:4: SettingWithCopyWarning: \n",
      "A value is trying to be set on a copy of a slice from a DataFrame.\n",
      "Try using .loc[row_indexer,col_indexer] = value instead\n",
      "\n",
      "See the caveats in the documentation: http://pandas.pydata.org/pandas-docs/stable/user_guide/indexing.html#returning-a-view-versus-a-copy\n",
      "  after removing the cwd from sys.path.\n"
     ]
    },
    {
     "data": {
      "text/html": [
       "<div>\n",
       "<style scoped>\n",
       "    .dataframe tbody tr th:only-of-type {\n",
       "        vertical-align: middle;\n",
       "    }\n",
       "\n",
       "    .dataframe tbody tr th {\n",
       "        vertical-align: top;\n",
       "    }\n",
       "\n",
       "    .dataframe thead th {\n",
       "        text-align: right;\n",
       "    }\n",
       "</style>\n",
       "<table border=\"1\" class=\"dataframe\">\n",
       "  <thead>\n",
       "    <tr style=\"text-align: right;\">\n",
       "      <th></th>\n",
       "      <th>City</th>\n",
       "      <th>Cloudiness</th>\n",
       "      <th>Country</th>\n",
       "      <th>Date</th>\n",
       "      <th>Humidity</th>\n",
       "      <th>Lat</th>\n",
       "      <th>Lng</th>\n",
       "      <th>Max Temp</th>\n",
       "      <th>Wind Speed</th>\n",
       "    </tr>\n",
       "  </thead>\n",
       "  <tbody>\n",
       "    <tr>\n",
       "      <td>0</td>\n",
       "      <td>Sorland</td>\n",
       "      <td>75.0</td>\n",
       "      <td>NO</td>\n",
       "      <td>1580548435</td>\n",
       "      <td>80.0</td>\n",
       "      <td>67.6670</td>\n",
       "      <td>12.6934</td>\n",
       "      <td>39.20</td>\n",
       "      <td>24.16</td>\n",
       "    </tr>\n",
       "    <tr>\n",
       "      <td>1</td>\n",
       "      <td>Tura</td>\n",
       "      <td>0.0</td>\n",
       "      <td>IN</td>\n",
       "      <td>1580548155</td>\n",
       "      <td>37.0</td>\n",
       "      <td>25.5198</td>\n",
       "      <td>90.2201</td>\n",
       "      <td>75.24</td>\n",
       "      <td>6.80</td>\n",
       "    </tr>\n",
       "    <tr>\n",
       "      <td>2</td>\n",
       "      <td>Qena</td>\n",
       "      <td>0.0</td>\n",
       "      <td>EG</td>\n",
       "      <td>1580548146</td>\n",
       "      <td>55.0</td>\n",
       "      <td>26.1615</td>\n",
       "      <td>32.7183</td>\n",
       "      <td>62.60</td>\n",
       "      <td>4.70</td>\n",
       "    </tr>\n",
       "    <tr>\n",
       "      <td>3</td>\n",
       "      <td>Washington</td>\n",
       "      <td>90.0</td>\n",
       "      <td>US</td>\n",
       "      <td>1580548545</td>\n",
       "      <td>62.0</td>\n",
       "      <td>47.5001</td>\n",
       "      <td>-120.5015</td>\n",
       "      <td>55.40</td>\n",
       "      <td>0.67</td>\n",
       "    </tr>\n",
       "    <tr>\n",
       "      <td>4</td>\n",
       "      <td>Erzin</td>\n",
       "      <td>33.0</td>\n",
       "      <td>TR</td>\n",
       "      <td>1580548145</td>\n",
       "      <td>30.0</td>\n",
       "      <td>36.9559</td>\n",
       "      <td>36.2000</td>\n",
       "      <td>53.60</td>\n",
       "      <td>6.93</td>\n",
       "    </tr>\n",
       "  </tbody>\n",
       "</table>\n",
       "</div>"
      ],
      "text/plain": [
       "         City  Cloudiness Country        Date  Humidity      Lat       Lng  \\\n",
       "0     Sorland        75.0      NO  1580548435      80.0  67.6670   12.6934   \n",
       "1        Tura         0.0      IN  1580548155      37.0  25.5198   90.2201   \n",
       "2        Qena         0.0      EG  1580548146      55.0  26.1615   32.7183   \n",
       "3  Washington        90.0      US  1580548545      62.0  47.5001 -120.5015   \n",
       "4       Erzin        33.0      TR  1580548145      30.0  36.9559   36.2000   \n",
       "\n",
       "   Max Temp  Wind Speed  \n",
       "0     39.20       24.16  \n",
       "1     75.24        6.80  \n",
       "2     62.60        4.70  \n",
       "3     55.40        0.67  \n",
       "4     53.60        6.93  "
      ]
     },
     "execution_count": 220,
     "metadata": {},
     "output_type": "execute_result"
    }
   ],
   "source": [
    "# Create Northern and Southern Hemisphere DataFrames\n",
    "northern_df = cities_df.loc[cities_df['Lat'] >= 0]\n",
    "northern_df['Cloudiness'] = northern_df['Cloudiness'].astype(float)\n",
    "northern_df['Humidity'] = northern_df['Humidity'].astype(float)\n",
    "northern_df = northern_df.reset_index().drop(['index'],axis=1)\n",
    "northern_df.head()"
   ]
  },
  {
   "cell_type": "code",
   "execution_count": 221,
   "metadata": {
    "scrolled": true
   },
   "outputs": [
    {
     "name": "stderr",
     "output_type": "stream",
     "text": [
      "/opt/anaconda3/lib/python3.7/site-packages/ipykernel_launcher.py:2: SettingWithCopyWarning: \n",
      "A value is trying to be set on a copy of a slice from a DataFrame.\n",
      "Try using .loc[row_indexer,col_indexer] = value instead\n",
      "\n",
      "See the caveats in the documentation: http://pandas.pydata.org/pandas-docs/stable/user_guide/indexing.html#returning-a-view-versus-a-copy\n",
      "  \n",
      "/opt/anaconda3/lib/python3.7/site-packages/ipykernel_launcher.py:3: SettingWithCopyWarning: \n",
      "A value is trying to be set on a copy of a slice from a DataFrame.\n",
      "Try using .loc[row_indexer,col_indexer] = value instead\n",
      "\n",
      "See the caveats in the documentation: http://pandas.pydata.org/pandas-docs/stable/user_guide/indexing.html#returning-a-view-versus-a-copy\n",
      "  This is separate from the ipykernel package so we can avoid doing imports until\n"
     ]
    },
    {
     "data": {
      "text/html": [
       "<div>\n",
       "<style scoped>\n",
       "    .dataframe tbody tr th:only-of-type {\n",
       "        vertical-align: middle;\n",
       "    }\n",
       "\n",
       "    .dataframe tbody tr th {\n",
       "        vertical-align: top;\n",
       "    }\n",
       "\n",
       "    .dataframe thead th {\n",
       "        text-align: right;\n",
       "    }\n",
       "</style>\n",
       "<table border=\"1\" class=\"dataframe\">\n",
       "  <thead>\n",
       "    <tr style=\"text-align: right;\">\n",
       "      <th></th>\n",
       "      <th>City</th>\n",
       "      <th>Cloudiness</th>\n",
       "      <th>Country</th>\n",
       "      <th>Date</th>\n",
       "      <th>Humidity</th>\n",
       "      <th>Lat</th>\n",
       "      <th>Lng</th>\n",
       "      <th>Max Temp</th>\n",
       "      <th>Wind Speed</th>\n",
       "    </tr>\n",
       "  </thead>\n",
       "  <tbody>\n",
       "    <tr>\n",
       "      <td>0</td>\n",
       "      <td>Mataura</td>\n",
       "      <td>100.0</td>\n",
       "      <td>NZ</td>\n",
       "      <td>1580548551</td>\n",
       "      <td>63.0</td>\n",
       "      <td>-46.1927</td>\n",
       "      <td>168.8643</td>\n",
       "      <td>71.01</td>\n",
       "      <td>11.99</td>\n",
       "    </tr>\n",
       "    <tr>\n",
       "      <td>1</td>\n",
       "      <td>Bredasdorp</td>\n",
       "      <td>90.0</td>\n",
       "      <td>ZA</td>\n",
       "      <td>1580547935</td>\n",
       "      <td>73.0</td>\n",
       "      <td>-34.5322</td>\n",
       "      <td>20.0403</td>\n",
       "      <td>75.99</td>\n",
       "      <td>5.99</td>\n",
       "    </tr>\n",
       "    <tr>\n",
       "      <td>2</td>\n",
       "      <td>Hobart</td>\n",
       "      <td>75.0</td>\n",
       "      <td>AU</td>\n",
       "      <td>1580548144</td>\n",
       "      <td>93.0</td>\n",
       "      <td>-42.8794</td>\n",
       "      <td>147.3294</td>\n",
       "      <td>64.99</td>\n",
       "      <td>8.05</td>\n",
       "    </tr>\n",
       "    <tr>\n",
       "      <td>3</td>\n",
       "      <td>Punta Arenas</td>\n",
       "      <td>75.0</td>\n",
       "      <td>CL</td>\n",
       "      <td>1580548483</td>\n",
       "      <td>81.0</td>\n",
       "      <td>-53.1500</td>\n",
       "      <td>-70.9167</td>\n",
       "      <td>50.00</td>\n",
       "      <td>4.70</td>\n",
       "    </tr>\n",
       "    <tr>\n",
       "      <td>4</td>\n",
       "      <td>Saldanha</td>\n",
       "      <td>0.0</td>\n",
       "      <td>ZA</td>\n",
       "      <td>1580548456</td>\n",
       "      <td>57.0</td>\n",
       "      <td>-33.0117</td>\n",
       "      <td>17.9442</td>\n",
       "      <td>75.20</td>\n",
       "      <td>4.70</td>\n",
       "    </tr>\n",
       "  </tbody>\n",
       "</table>\n",
       "</div>"
      ],
      "text/plain": [
       "           City  Cloudiness Country        Date  Humidity      Lat       Lng  \\\n",
       "0       Mataura       100.0      NZ  1580548551      63.0 -46.1927  168.8643   \n",
       "1    Bredasdorp        90.0      ZA  1580547935      73.0 -34.5322   20.0403   \n",
       "2        Hobart        75.0      AU  1580548144      93.0 -42.8794  147.3294   \n",
       "3  Punta Arenas        75.0      CL  1580548483      81.0 -53.1500  -70.9167   \n",
       "4      Saldanha         0.0      ZA  1580548456      57.0 -33.0117   17.9442   \n",
       "\n",
       "   Max Temp  Wind Speed  \n",
       "0     71.01       11.99  \n",
       "1     75.99        5.99  \n",
       "2     64.99        8.05  \n",
       "3     50.00        4.70  \n",
       "4     75.20        4.70  "
      ]
     },
     "execution_count": 221,
     "metadata": {},
     "output_type": "execute_result"
    }
   ],
   "source": [
    "southern_df = cities_df.loc[cities_df['Lat'] <= 0]\n",
    "southern_df['Cloudiness'] = southern_df['Cloudiness'].astype(float)\n",
    "southern_df['Humidity'] = southern_df['Humidity'].astype(float)\n",
    "southern_df = southern_df.reset_index().drop(['index'],axis=1)\n",
    "southern_df.head()"
   ]
  },
  {
   "cell_type": "markdown",
   "metadata": {},
   "source": [
    "####  Northern Hemisphere - Max Temp vs. Latitude Linear Regression"
   ]
  },
  {
   "cell_type": "code",
   "execution_count": 223,
   "metadata": {},
   "outputs": [
    {
     "name": "stdout",
     "output_type": "stream",
     "text": [
      "The r-squared is: 0.7650511694297314\n"
     ]
    },
    {
     "data": {
      "image/png": "[encoded data removed]",
      "text/plain": [
       "<Figure size 432x288 with 1 Axes>"
      ]
     },
     "metadata": {
      "needs_background": "light"
     },
     "output_type": "display_data"
    }
   ],
   "source": [
    "linregression(northern_df,'Lat','Max Temp','Latitude','Max Temp')\n",
    "\n",
    "#Explanation\n",
    "# Strong inverse correlation is visible based upon the regression. It can be interpreted as\n",
    "# a location with a latitude of 10 would have a predicated max temp of (-14.3 + 96.59) or 82.29 (F). As the latitude increases, the max temp predicted decreases."
   ]
  },
  {
   "cell_type": "markdown",
   "metadata": {},
   "source": [
    "####  Southern Hemisphere - Max Temp vs. Latitude Linear Regression"
   ]
  },
  {
   "cell_type": "code",
   "execution_count": 248,
   "metadata": {},
   "outputs": [
    {
     "name": "stdout",
     "output_type": "stream",
     "text": [
      "The r-squared is: 0.14468147316854393\n"
     ]
    },
    {
     "data": {
      "image/png": "[encoded data removed]",
      "text/plain": [
       "<Figure size 432x288 with 1 Axes>"
      ]
     },
     "metadata": {
      "needs_background": "light"
     },
     "output_type": "display_data"
    }
   ],
   "source": [
    "linregression(southern_df,'Lat','Max Temp','Latitude','Max Temp')\n",
    "\n",
    "# Explanation\n",
    "# The positive relationship is evidenced within the linear regression.\n",
    "# Intepretation: As you get closer to the equator (latitude of 0), the max temp increases. A unit increase in latitude would yield a .27 F increase in temperature. "
   ]
  },
  {
   "cell_type": "markdown",
   "metadata": {},
   "source": [
    "####  Northern Hemisphere - Humidity (%) vs. Latitude Linear Regression"
   ]
  },
  {
   "cell_type": "code",
   "execution_count": 241,
   "metadata": {},
   "outputs": [
    {
     "name": "stdout",
     "output_type": "stream",
     "text": [
      "The r-squared is: 0.2145882909723553\n"
     ]
    },
    {
     "data": {
      "image/png": "[encoded data removed]",
      "text/plain": [
       "<Figure size 432x288 with 1 Axes>"
      ]
     },
     "metadata": {
      "needs_background": "light"
     },
     "output_type": "display_data"
    }
   ],
   "source": [
    "linregression(northern_df,'Lat','Humidity','Latitude','Humidity')\n",
    "\n",
    "# Explanation\n",
    "# Interpretation: A unit increase in latitude away from the equator, the humidity level trends upwards by .57 unit increase in humidity."
   ]
  },
  {
   "cell_type": "markdown",
   "metadata": {},
   "source": [
    "####  Southern Hemisphere - Humidity (%) vs. Latitude Linear Regression"
   ]
  },
  {
   "cell_type": "code",
   "execution_count": 249,
   "metadata": {},
   "outputs": [
    {
     "name": "stdout",
     "output_type": "stream",
     "text": [
      "The r-squared is: 0.05129737189335014\n"
     ]
    },
    {
     "data": {
      "image/png": "[encoded data removed]",
      "text/plain": [
       "<Figure size 432x288 with 1 Axes>"
      ]
     },
     "metadata": {
      "needs_background": "light"
     },
     "output_type": "display_data"
    }
   ],
   "source": [
    "linregression(southern_df,'Lat','Humidity','Latitude','Humidity')\n",
    "\n",
    "#Explanation\n",
    "#Interpreation: As you get towards the equator, the humidity level increases by .29 units. \n",
    "# The positive trend in humidity is less positive in the southern hemisphere than the northern hemisphere."
   ]
  },
  {
   "cell_type": "markdown",
   "metadata": {},
   "source": [
    "####  Northern Hemisphere - Cloudiness (%) vs. Latitude Linear Regression"
   ]
  },
  {
   "cell_type": "code",
   "execution_count": 242,
   "metadata": {},
   "outputs": [
    {
     "name": "stdout",
     "output_type": "stream",
     "text": [
      "The r-squared is: 0.08142725081786549\n"
     ]
    },
    {
     "data": {
      "image/png": "[encoded data removed]",
      "text/plain": [
       "<Figure size 432x288 with 1 Axes>"
      ]
     },
     "metadata": {
      "needs_background": "light"
     },
     "output_type": "display_data"
    }
   ],
   "source": [
    "linregression(northern_df,'Lat','Cloudiness','Latitude','Cloudiness')\n",
    "\n",
    "#Explanation\n",
    "#Interpretation: As you get away from the equator, the cloudiness increases by .57 unit per unit increaes in latitude.\n"
   ]
  },
  {
   "cell_type": "markdown",
   "metadata": {},
   "source": [
    "####  Southern Hemisphere - Cloudiness (%) vs. Latitude Linear Regression"
   ]
  },
  {
   "cell_type": "code",
   "execution_count": 250,
   "metadata": {},
   "outputs": [
    {
     "name": "stdout",
     "output_type": "stream",
     "text": [
      "The r-squared is: 0.05195788906079641\n"
     ]
    },
    {
     "data": {
      "image/png": "[encoded data removed]",
      "text/plain": [
       "<Figure size 432x288 with 1 Axes>"
      ]
     },
     "metadata": {
      "needs_background": "light"
     },
     "output_type": "display_data"
    }
   ],
   "source": [
    "linregression(southern_df,'Lat','Cloudiness','Latitude','Cloudiness')\n",
    "\n",
    "#Explanation\n",
    "# Interpretation: As you get closer to the equator, the cloudiness level increases by .63 units.\n",
    "# The regression trends more positive in the southern hemisphere than the northern hemisphere."
   ]
  },
  {
   "cell_type": "markdown",
   "metadata": {},
   "source": [
    "####  Northern Hemisphere - Wind Speed (mph) vs. Latitude Linear Regression"
   ]
  },
  {
   "cell_type": "code",
   "execution_count": 244,
   "metadata": {},
   "outputs": [
    {
     "name": "stdout",
     "output_type": "stream",
     "text": [
      "The r-squared is: 0.001448334462924681\n"
     ]
    },
    {
     "data": {
      "image/png": "[encoded data removed]",
      "text/plain": [
       "<Figure size 432x288 with 1 Axes>"
      ]
     },
     "metadata": {
      "needs_background": "light"
     },
     "output_type": "display_data"
    }
   ],
   "source": [
    "linregression(northern_df,'Lat','Wind Speed','Latitude','Wind Speed')\n",
    "\n",
    "#Explanation\n",
    "# Interpretation: The slope of the regression line indicates a very minimal positive change in wind speed as a function of increasing latitude."
   ]
  },
  {
   "cell_type": "markdown",
   "metadata": {},
   "source": [
    "####  Southern Hemisphere - Wind Speed (mph) vs. Latitude Linear Regression"
   ]
  },
  {
   "cell_type": "code",
   "execution_count": 253,
   "metadata": {},
   "outputs": [
    {
     "name": "stdout",
     "output_type": "stream",
     "text": [
      "The r-squared is: 0.014828443738502319\n"
     ]
    },
    {
     "data": {
      "image/png": "[encoded data removed]",
      "text/plain": [
       "<Figure size 432x288 with 1 Axes>"
      ]
     },
     "metadata": {
      "needs_background": "light"
     },
     "output_type": "display_data"
    }
   ],
   "source": [
    "linregression(southern_df,'Lat','Wind Speed','Latitude','Wind Speed')\n",
    "\n",
    "#Explanation\n",
    "#Interpretation: There is a minimal negative relationship between wind speed and the latitude getting closer to the equator."
   ]
  },
  {
   "cell_type": "code",
   "execution_count": null,
   "metadata": {},
   "outputs": [],
   "source": []
  }
 ],
 "metadata": {
  "anaconda-cloud": {},
  "kernel_info": {
   "name": "python3"
  },
  "kernelspec": {
   "display_name": "Python 3",
   "language": "python",
   "name": "python3"
  },
  "language_info": {
   "codemirror_mode": {
    "name": "ipython",
    "version": 3
   },
   "file_extension": ".py",
   "mimetype": "text/x-python",
   "name": "python",
   "nbconvert_exporter": "python",
   "pygments_lexer": "ipython3",
   "version": "3.7.4"
  },
  "latex_envs": {
   "LaTeX_envs_menu_present": true,
   "autoclose": false,
   "autocomplete": true,
   "bibliofile": "biblio.bib",
   "cite_by": "apalike",
   "current_citInitial": 1,
   "eqLabelWithNumbers": true,
   "eqNumInitial": 1,
   "hotkeys": {
    "equation": "Ctrl-E",
    "itemize": "Ctrl-I"
   },
   "labels_anchors": false,
   "latex_user_defs": false,
   "report_style_numbering": false,
   "user_envs_cfg": false
  },
  "nteract": {
   "version": "0.12.3"
  }
 },
 "nbformat": 4,
 "nbformat_minor": 2
}
